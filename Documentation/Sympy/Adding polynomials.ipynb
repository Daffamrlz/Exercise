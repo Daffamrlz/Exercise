{
 "cells": [
  {
   "cell_type": "code",
   "execution_count": 1,
   "metadata": {},
   "outputs": [],
   "source": [
    "import sympy as sym\n",
    "from IPython.display import display,Math"
   ]
  },
  {
   "cell_type": "code",
   "execution_count": 4,
   "metadata": {},
   "outputs": [
    {
     "data": {
      "text/latex": [
       "$\\displaystyle (2 x^{3} + x^{2} - x) - (- x^{4} + x^{3} - 4 x^{2}) = x^{4} + x^{3} + 5 x^{2} - x$"
      ],
      "text/plain": [
       "<IPython.core.display.Math object>"
      ]
     },
     "metadata": {},
     "output_type": "display_data"
    }
   ],
   "source": [
    "from sympy.abc import x\n",
    "\n",
    "p1 = 2*x**3 + x**2 - x\n",
    "p2 = x**3 - x**4 - 4*x**2\n",
    "\n",
    "display(Math('(%s) - (%s) = %s' %(sym.latex(p1), sym.latex(p2), sym.latex(p1-p2))))"
   ]
  },
  {
   "cell_type": "code",
   "execution_count": 5,
   "metadata": {},
   "outputs": [
    {
     "name": "stdout",
     "output_type": "stream",
     "text": [
      "3\n"
     ]
    }
   ],
   "source": [
    "p1 = sym.Poly(x**2 - x + 2*x**3)\n",
    "\n",
    "print(p1.degree())"
   ]
  },
  {
   "cell_type": "code",
   "execution_count": 24,
   "metadata": {},
   "outputs": [
    {
     "name": "stdout",
     "output_type": "stream",
     "text": [
      "The degree of 2**x + x**2 is even, and the coefficients sum to 2. \n",
      "The degree of -x**3 + 4*x is odd, and there are 2 coefficients\n",
      "The degree of x**5 - x**4 + x/4 + 4 is odd, and there are 4 coefficients\n"
     ]
    }
   ],
   "source": [
    "polys = [ sym.Poly(2**x + x**2), sym.Poly(-x**3 + 4*x), sym.Poly(x**5 - x**4 + x/4 +4)]\n",
    "\n",
    "for  poli in polys:\n",
    "    if poli.degree()%2==0:\n",
    "        print('The degree of %s is even, and the coefficients sum to %g. ' %(poli.as_expr(), sum(poli.coeffs())))\n",
    "    else:\n",
    "        print('The degree of %s is odd, and there are %g coefficients' %(poli.as_expr(), len(poli.coeffs())))"
   ]
  }
 ],
 "metadata": {
  "kernelspec": {
   "display_name": "Python 3.10.5 64-bit (windows store)",
   "language": "python",
   "name": "python3"
  },
  "language_info": {
   "codemirror_mode": {
    "name": "ipython",
    "version": 3
   },
   "file_extension": ".py",
   "mimetype": "text/x-python",
   "name": "python",
   "nbconvert_exporter": "python",
   "pygments_lexer": "ipython3",
   "version": "3.10.5"
  },
  "orig_nbformat": 4,
  "vscode": {
   "interpreter": {
    "hash": "854ad7b50770bedaf0cab730b1aaabb765566ea98036f134b639e260bede141e"
   }
  }
 },
 "nbformat": 4,
 "nbformat_minor": 2
}
